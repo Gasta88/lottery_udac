{
 "cells": [
  {
   "cell_type": "code",
   "execution_count": 1,
   "id": "1ae91afb",
   "metadata": {},
   "outputs": [],
   "source": [
    "import configparser\n",
    "from datetime import datetime\n",
    "import time\n",
    "import os\n",
    "from pyspark.sql import SparkSession\n",
    "from pyspark.sql.functions import udf, col, monotonically_increasing_id, lit, \\\n",
    "    concat, lower\n",
    "from pyspark.sql.functions import year, month, dayofmonth, hour, weekofyear, \\\n",
    "    date_format\n",
    "from pyspark.sql.types import IntegerType, StringType, TimestampType, \\\n",
    "    StructType, StructField, DoubleType, LongType\n",
    "from functools import reduce"
   ]
  },
  {
   "cell_type": "code",
   "execution_count": 2,
   "id": "20f6b604",
   "metadata": {},
   "outputs": [],
   "source": [
    "spark = SparkSession \\\n",
    "        .builder \\\n",
    "        .config(\"spark.jars.packages\", \"org.apache.hadoop:hadoop-aws:2.7.0\") \\\n",
    "        .getOrCreate()"
   ]
  },
  {
   "cell_type": "code",
   "execution_count": 3,
   "id": "20f3bd2d",
   "metadata": {},
   "outputs": [],
   "source": [
    "get_timestampunix = udf(lambda x:\n",
    "                            int(time.mktime(\n",
    "                                datetime.strptime(x[:-3], '%Y-%m-%d %H:%M:%S.%f')\\\n",
    "                                    .timetuple())) if isinstance(x, str) else 0, IntegerType())\n",
    "get_timestamp = udf(lambda x: int(int(x)/1000), IntegerType())\n",
    "get_datetime = udf(lambda x: datetime.fromtimestamp(x), TimestampType())"
   ]
  },
  {
   "cell_type": "code",
   "execution_count": 4,
   "id": "b3072fb0",
   "metadata": {},
   "outputs": [],
   "source": [
    "input_data = '../data'\n",
    "customerlogins_file = os.path.join(input_data, 'customerlogins.csv')\n",
    "customerregistration_files = os.path.join(input_data, 'customerregistration*.csv')\n",
    "instantgames_file = os.path.join(input_data, 'instantgamespurchases.csv')\n",
    "lotterygames_file = os.path.join(input_data, 'lotterygamespurchases.csv')"
   ]
  },
  {
   "cell_type": "code",
   "execution_count": 5,
   "id": "f598360c",
   "metadata": {
    "scrolled": true
   },
   "outputs": [],
   "source": [
    "log_df = spark.read.csv(customerlogins_file, header=True, sep=';')\n",
    "reg_df = spark.read.csv(customerregistration_files, header=True, sep=';')\n",
    "lottery_df = spark.read.csv(lotterygames_file, header=True, sep=';')\n",
    "games_df = spark.read.csv(instantgames_file, header=True, sep=';')"
   ]
  },
  {
   "cell_type": "code",
   "execution_count": 6,
   "id": "64cfb247",
   "metadata": {},
   "outputs": [],
   "source": [
    "log_df = log_df.withColumnRenamed(\"timestamp\", \"datetime\")\n",
    "log_df = log_df.withColumn(\"timestamp\",\n",
    "                           get_timestampunix(log_df.datetime))"
   ]
  },
  {
   "cell_type": "code",
   "execution_count": 7,
   "id": "a510bb42",
   "metadata": {},
   "outputs": [],
   "source": [
    "reg_df = reg_df.withColumnRenamed(\"timestamp\", \"datetime\")\n",
    "reg_df = reg_df.withColumn(\"timestamp\",\n",
    "                          get_timestampunix(reg_df.datetime))"
   ]
  },
  {
   "cell_type": "code",
   "execution_count": 8,
   "id": "97848253",
   "metadata": {},
   "outputs": [],
   "source": [
    "lottery_df = lottery_df.where(col(\"timestampunix\").isNotNull())\\\n",
    "                       .withColumn(\"timestamp\",\n",
    "                                   get_timestamp(lottery_df.timestampunix))\n",
    "lottery_df = lottery_df.where(col(\"timestamp\").isNotNull())\\\n",
    "                       .withColumn(\"datetime\",\n",
    "                                   get_datetime(lottery_df.timestamp))\n",
    "lottery_df = lottery_df.withColumn(\"amountineur\",\n",
    "                                   col(\"amountincents\") / 100)\\\n",
    "                       .withColumn(\"feeineur\",\n",
    "                                   col(\"feeamountincents\") / 100)\\\n",
    "                       .withColumn(\"winningsineur\",\n",
    "                                   lit(None).cast(StringType()))"
   ]
  },
  {
   "cell_type": "code",
   "execution_count": 9,
   "id": "3ab06dff",
   "metadata": {},
   "outputs": [],
   "source": [
    "games_df = games_df.withColumn(\"betindex\", lit(None).cast(StringType()))\\\n",
    "                   .withColumn(\"discount\", lit(None).cast(StringType()))\n",
    "games_df = games_df.withColumnRenamed(\"timestamp\", \"datetime\")\n",
    "games_df = games_df.where(col(\"datetime\").isNotNull())\\\n",
    "                   .withColumn(\"timestamp\",\n",
    "                              get_timestampunix(games_df.datetime))"
   ]
  },
  {
   "cell_type": "code",
   "execution_count": 13,
   "id": "8a54affe",
   "metadata": {},
   "outputs": [],
   "source": [
    "ticket_table1 = lottery_df.dropDuplicates([\"ticketid\"])\\\n",
    "                         .select(col(\"ticketid\").alias(\"id\"),\n",
    "                                 col(\"amountineur\").alias(\"amount\"),\n",
    "                                 col(\"feeineur\").alias(\"fee\"),\n",
    "                                 col(\"winningsineur\").alias(\"winnings\"))\\\n",
    "                        .where(col(\"timestampunix\").isNotNull() &\n",
    "                               col(\"site\").isNotNull() &\n",
    "                               col(\"customernumber\").isNotNull() &\n",
    "                               col(\"amountineur\").isNotNull() &\n",
    "                               col(\"feeineur\").isNotNull() &\n",
    "                               col(\"game\").isNotNull() &\n",
    "                               col(\"orderidentifier\").isNotNull() &\n",
    "                               col(\"orderidentifier\").isNotNull() &\n",
    "                               col(\"ticketid\").isNotNull())\n",
    "ticket_table2 = games_df.dropDuplicates([\"ticketexternalid\", \"aggregationkey\"])\\\n",
    "                        .select(concat(col(\"ticketexternalid\"), col(\"aggregationkey\")).alias(\"id\"),\n",
    "                                col(\"priceineur\").alias(\"amount\"),\n",
    "                                col(\"feeineur\").alias(\"fee\"),\n",
    "                                col(\"winningsineur\").alias(\"winnings\"))\\\n",
    "                        .where(concat(col(\"ticketexternalid\"), col(\"aggregationkey\")).isNotNull() &\n",
    "                               col(\"timestamp\").isNotNull() &\n",
    "                               col(\"sitetid\").isNotNull() &\n",
    "                               col(\"customernumber\").isNotNull() &\n",
    "                               col(\"gamename\").isNotNull() &\n",
    "                               col(\"priceineur\").isNotNull() &\n",
    "                               col(\"feeineur\").isNotNull())\n",
    "ticket_table = reduce(lambda x, y: x.union(y), [ticket_table1,\n",
    "                                                ticket_table2])\n",
    "ticket_table = ticket_table.dropDuplicates([\"id\"])"
   ]
  },
  {
   "cell_type": "code",
   "execution_count": 14,
   "id": "8b509858",
   "metadata": {},
   "outputs": [
    {
     "data": {
      "text/plain": [
       "0"
      ]
     },
     "execution_count": 14,
     "metadata": {},
     "output_type": "execute_result"
    }
   ],
   "source": [
    "ticket_table.where(col(\"id\").isNull()).count()"
   ]
  },
  {
   "cell_type": "code",
   "execution_count": null,
   "id": "c37dce32",
   "metadata": {},
   "outputs": [],
   "source": [
    "# product_table.count()"
   ]
  }
 ],
 "metadata": {
  "kernelspec": {
   "display_name": "Python 3",
   "language": "python",
   "name": "python3"
  },
  "language_info": {
   "codemirror_mode": {
    "name": "ipython",
    "version": 3
   },
   "file_extension": ".py",
   "mimetype": "text/x-python",
   "name": "python",
   "nbconvert_exporter": "python",
   "pygments_lexer": "ipython3",
   "version": "3.9.4"
  }
 },
 "nbformat": 4,
 "nbformat_minor": 5
}
