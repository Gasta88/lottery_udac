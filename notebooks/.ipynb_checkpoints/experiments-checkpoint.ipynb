{
 "cells": [
  {
   "cell_type": "code",
   "execution_count": 1,
   "id": "1ae91afb",
   "metadata": {},
   "outputs": [],
   "source": [
    "import configparser\n",
    "from datetime import datetime\n",
    "import time\n",
    "import os\n",
    "from pyspark.sql import SparkSession\n",
    "from pyspark.sql.functions import udf, col, monotonically_increasing_id, lit, \\\n",
    "    concat\n",
    "from pyspark.sql.functions import year, month, dayofmonth, hour, weekofyear, \\\n",
    "    date_format\n",
    "from pyspark.sql.types import IntegerType, StringType, TimestampType, \\\n",
    "    StructType, StructField, DoubleType, LongType\n",
    "from functools import reduce"
   ]
  },
  {
   "cell_type": "code",
   "execution_count": 2,
   "id": "20f6b604",
   "metadata": {},
   "outputs": [],
   "source": [
    "spark = SparkSession \\\n",
    "        .builder \\\n",
    "        .config(\"spark.jars.packages\", \"org.apache.hadoop:hadoop-aws:2.7.0\") \\\n",
    "        .getOrCreate()"
   ]
  },
  {
   "cell_type": "code",
   "execution_count": 3,
   "id": "20f3bd2d",
   "metadata": {},
   "outputs": [],
   "source": [
    "get_timestampunix = udf(lambda x:\n",
    "                            int(time.mktime(\n",
    "                                datetime.strptime(x[:-3], '%Y-%m-%d %H:%M:%S.%f')\\\n",
    "                                    .timetuple())) if isinstance(x, str) else 0, IntegerType())\n",
    "get_timestamp = udf(lambda x: int(int(x)/1000), IntegerType())\n",
    "get_datetime = udf(lambda x: datetime.fromtimestamp(x), TimestampType())"
   ]
  },
  {
   "cell_type": "code",
   "execution_count": 4,
   "id": "b3072fb0",
   "metadata": {},
   "outputs": [],
   "source": [
    "input_data = '../data'\n",
    "customerlogins_file = os.path.join(input_data, 'customerlogins.csv')\n",
    "customerregistration_files = os.path.join(input_data, 'customerregistration*.csv')\n",
    "instantgames_file = os.path.join(input_data, 'instantgamespurchases.csv')\n",
    "lotterygames_file = os.path.join(input_data, 'lotterygamespurchases.csv')"
   ]
  },
  {
   "cell_type": "code",
   "execution_count": 5,
   "id": "f598360c",
   "metadata": {
    "scrolled": true
   },
   "outputs": [],
   "source": [
    "log_df = spark.read.csv(customerlogins_file, header=True, sep=';')\n",
    "reg_df = spark.read.csv(customerregistration_files, header=True, sep=';')\n",
    "lottery_df = spark.read.csv(lotterygames_file, header=True, sep=';')\n",
    "games_df = spark.read.csv(instantgames_file, header=True, sep=';')"
   ]
  },
  {
   "cell_type": "code",
   "execution_count": 6,
   "id": "64cfb247",
   "metadata": {},
   "outputs": [],
   "source": [
    "log_df = log_df.withColumnRenamed(\"timestamp\", \"datetime\")\n",
    "log_df = log_df.withColumn(\"timestamp\",\n",
    "                           get_timestampunix(log_df.datetime))"
   ]
  },
  {
   "cell_type": "code",
   "execution_count": 7,
   "id": "a510bb42",
   "metadata": {},
   "outputs": [],
   "source": [
    "reg_df = reg_df.withColumnRenamed(\"timestamp\", \"datetime\")\n",
    "reg_df = reg_df.withColumn(\"timestamp\",\n",
    "                          get_timestampunix(reg_df.datetime))"
   ]
  },
  {
   "cell_type": "code",
   "execution_count": 8,
   "id": "97848253",
   "metadata": {},
   "outputs": [],
   "source": [
    "lottery_df = lottery_df.where(col(\"timestampunix\").isNotNull())\\\n",
    "                       .withColumn(\"timestamp\",\n",
    "                                   get_timestamp(lottery_df.timestampunix))\n",
    "lottery_df = lottery_df.where(col(\"timestamp\").isNotNull())\\\n",
    "                       .withColumn(\"datetime\",\n",
    "                                   get_datetime(lottery_df.timestamp))\n",
    "lottery_df = lottery_df.withColumn(\"amountineur\",\n",
    "                                   col(\"amountincents\") / 100)\\\n",
    "                       .withColumn(\"feeineur\",\n",
    "                                   col(\"feeamountincents\") / 100)\\\n",
    "                       .withColumn(\"winningsineur\",\n",
    "                                   lit(None).cast(StringType()))"
   ]
  },
  {
   "cell_type": "code",
   "execution_count": 9,
   "id": "3ab06dff",
   "metadata": {},
   "outputs": [],
   "source": [
    "games_df = games_df.withColumn(\"betindex\", lit(None).cast(StringType()))\\\n",
    "                   .withColumn(\"discount\", lit(None).cast(StringType()))\n",
    "games_df = games_df.withColumnRenamed(\"timestamp\", \"datetime\")\n",
    "games_df = games_df.where(col(\"datetime\").isNotNull())\\\n",
    "                   .withColumn(\"timestamp\",\n",
    "                              get_timestampunix(games_df.datetime))"
   ]
  },
  {
   "cell_type": "code",
   "execution_count": 12,
   "id": "230ad1c0",
   "metadata": {},
   "outputs": [
    {
     "name": "stdout",
     "output_type": "stream",
     "text": [
      "root\n",
      " |-- timestampunix: string (nullable = true)\n",
      " |-- site: string (nullable = true)\n",
      " |-- customernumber: string (nullable = true)\n",
      " |-- currency: string (nullable = true)\n",
      " |-- amountincents: string (nullable = true)\n",
      " |-- feeamountincents: string (nullable = true)\n",
      " |-- game: string (nullable = true)\n",
      " |-- orderidentifier: string (nullable = true)\n",
      " |-- paymentamountincents: string (nullable = true)\n",
      " |-- ticketid: string (nullable = true)\n",
      " |-- betindex: string (nullable = true)\n",
      " |-- discount: string (nullable = true)\n",
      " |-- timestamp: integer (nullable = true)\n",
      " |-- datetime: timestamp (nullable = true)\n",
      " |-- amountineur: double (nullable = true)\n",
      " |-- feeineur: double (nullable = true)\n",
      " |-- winningsineur: string (nullable = true)\n",
      "\n"
     ]
    }
   ],
   "source": [
    "lottery_df.printSchema()"
   ]
  },
  {
   "cell_type": "code",
   "execution_count": 11,
   "id": "efe6e402",
   "metadata": {},
   "outputs": [
    {
     "ename": "AssertionError",
     "evalue": "col should be Column",
     "output_type": "error",
     "traceback": [
      "\u001b[0;31m---------------------------------------------------------------------------\u001b[0m",
      "\u001b[0;31mAssertionError\u001b[0m                            Traceback (most recent call last)",
      "\u001b[0;32m<ipython-input-11-85888f69ac2d>\u001b[0m in \u001b[0;36m<module>\u001b[0;34m\u001b[0m\n\u001b[0;32m----> 1\u001b[0;31m \u001b[0mprod_table1\u001b[0m \u001b[0;34m=\u001b[0m \u001b[0mlottery_df\u001b[0m\u001b[0;34m.\u001b[0m\u001b[0mdropDuplicates\u001b[0m\u001b[0;34m(\u001b[0m\u001b[0;34m[\u001b[0m\u001b[0;34m\"game\"\u001b[0m\u001b[0;34m]\u001b[0m\u001b[0;34m)\u001b[0m\u001b[0;31m\\\u001b[0m\u001b[0;34m\u001b[0m\u001b[0;34m\u001b[0m\u001b[0m\n\u001b[0m\u001b[1;32m      2\u001b[0m                         \u001b[0;34m.\u001b[0m\u001b[0mselect\u001b[0m\u001b[0;34m(\u001b[0m\u001b[0mcol\u001b[0m\u001b[0;34m(\u001b[0m\u001b[0;34m\"game\"\u001b[0m\u001b[0;34m)\u001b[0m\u001b[0;34m.\u001b[0m\u001b[0malias\u001b[0m\u001b[0;34m(\u001b[0m\u001b[0;34m\"name\"\u001b[0m\u001b[0;34m)\u001b[0m\u001b[0;34m)\u001b[0m\u001b[0;31m\\\u001b[0m\u001b[0;34m\u001b[0m\u001b[0;34m\u001b[0m\u001b[0m\n\u001b[1;32m      3\u001b[0m                         \u001b[0;34m.\u001b[0m\u001b[0mwhere\u001b[0m\u001b[0;34m(\u001b[0m\u001b[0mcol\u001b[0m\u001b[0;34m(\u001b[0m\u001b[0;34m\"game\"\u001b[0m\u001b[0;34m)\u001b[0m\u001b[0;34m.\u001b[0m\u001b[0misNotNull\u001b[0m\u001b[0;34m(\u001b[0m\u001b[0;34m)\u001b[0m\u001b[0;34m)\u001b[0m\u001b[0;31m\\\u001b[0m\u001b[0;34m\u001b[0m\u001b[0;34m\u001b[0m\u001b[0m\n\u001b[1;32m      4\u001b[0m                         \u001b[0;34m.\u001b[0m\u001b[0mwithColumn\u001b[0m\u001b[0;34m(\u001b[0m\u001b[0;34m\"type\"\u001b[0m\u001b[0;34m,\u001b[0m \u001b[0;34m\"lottery_game\"\u001b[0m\u001b[0;34m)\u001b[0m\u001b[0;34m\u001b[0m\u001b[0;34m\u001b[0m\u001b[0m\n",
      "\u001b[0;32m/usr/local/spark/python/pyspark/sql/dataframe.py\u001b[0m in \u001b[0;36mwithColumn\u001b[0;34m(self, colName, col)\u001b[0m\n\u001b[1;32m   2452\u001b[0m \u001b[0;34m\u001b[0m\u001b[0m\n\u001b[1;32m   2453\u001b[0m         \"\"\"\n\u001b[0;32m-> 2454\u001b[0;31m         \u001b[0;32massert\u001b[0m \u001b[0misinstance\u001b[0m\u001b[0;34m(\u001b[0m\u001b[0mcol\u001b[0m\u001b[0;34m,\u001b[0m \u001b[0mColumn\u001b[0m\u001b[0;34m)\u001b[0m\u001b[0;34m,\u001b[0m \u001b[0;34m\"col should be Column\"\u001b[0m\u001b[0;34m\u001b[0m\u001b[0;34m\u001b[0m\u001b[0m\n\u001b[0m\u001b[1;32m   2455\u001b[0m         \u001b[0;32mreturn\u001b[0m \u001b[0mDataFrame\u001b[0m\u001b[0;34m(\u001b[0m\u001b[0mself\u001b[0m\u001b[0;34m.\u001b[0m\u001b[0m_jdf\u001b[0m\u001b[0;34m.\u001b[0m\u001b[0mwithColumn\u001b[0m\u001b[0;34m(\u001b[0m\u001b[0mcolName\u001b[0m\u001b[0;34m,\u001b[0m \u001b[0mcol\u001b[0m\u001b[0;34m.\u001b[0m\u001b[0m_jc\u001b[0m\u001b[0;34m)\u001b[0m\u001b[0;34m,\u001b[0m \u001b[0mself\u001b[0m\u001b[0;34m.\u001b[0m\u001b[0msql_ctx\u001b[0m\u001b[0;34m)\u001b[0m\u001b[0;34m\u001b[0m\u001b[0;34m\u001b[0m\u001b[0m\n\u001b[1;32m   2456\u001b[0m \u001b[0;34m\u001b[0m\u001b[0m\n",
      "\u001b[0;31mAssertionError\u001b[0m: col should be Column"
     ]
    }
   ],
   "source": [
    "prod_table1 = lottery_df.dropDuplicates([\"game\"])\\\n",
    "                        .select(col(\"game\").alias(\"name\"))\\\n",
    "                        .where(col(\"game\").isNotNull())\\\n",
    "                        .withColumn(\"type\", \"lottery_game\")"
   ]
  },
  {
   "cell_type": "code",
   "execution_count": null,
   "id": "19dac939",
   "metadata": {},
   "outputs": [],
   "source": [
    "prod_table2 = games_df.dropDuplicates([\"gamename\"])\\\n",
    "                      .select(col(\"gamename\").alias(\"name\"))\\\n",
    "                      .where(col(\"gamename\").isNotNull())\\\n",
    "                      .withColumn(\"type\", \"instant_game\")"
   ]
  },
  {
   "cell_type": "code",
   "execution_count": null,
   "id": "1db5fd8e",
   "metadata": {},
   "outputs": [],
   "source": [
    "\n",
    "product_table =  reduce(lambda x, y: x.union(y), [prod_table1,\n",
    "                                                  prod_table2])\n",
    "product_table = product_table.dropDuplicates([\"name\"])\\\n",
    "                             .sort(\"name\", ascending=True)\\\n",
    "                             .withColumn(\"id\",\n",
    "                                         monotonically_increasing_id())"
   ]
  },
  {
   "cell_type": "code",
   "execution_count": null,
   "id": "8b509858",
   "metadata": {},
   "outputs": [],
   "source": [
    "product_table.show(n=5, truncate=False)"
   ]
  },
  {
   "cell_type": "code",
   "execution_count": null,
   "id": "c37dce32",
   "metadata": {},
   "outputs": [],
   "source": [
    "product_table.count()"
   ]
  }
 ],
 "metadata": {
  "kernelspec": {
   "display_name": "Python 3",
   "language": "python",
   "name": "python3"
  },
  "language_info": {
   "codemirror_mode": {
    "name": "ipython",
    "version": 3
   },
   "file_extension": ".py",
   "mimetype": "text/x-python",
   "name": "python",
   "nbconvert_exporter": "python",
   "pygments_lexer": "ipython3",
   "version": "3.9.4"
  }
 },
 "nbformat": 4,
 "nbformat_minor": 5
}
